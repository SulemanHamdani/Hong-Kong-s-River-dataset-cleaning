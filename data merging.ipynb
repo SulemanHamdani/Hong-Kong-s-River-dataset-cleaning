{
 "cells": [
  {
   "cell_type": "code",
   "execution_count": 62,
   "id": "33b2d235",
   "metadata": {},
   "outputs": [],
   "source": [
    "import pandas as pd\n",
    "import numpy as np"
   ]
  },
  {
   "cell_type": "code",
   "execution_count": 63,
   "id": "c7e9aefa",
   "metadata": {},
   "outputs": [],
   "source": [
    "raw_data_2018 = pd.read_csv(\"river-historical-2018-en.csv\")\n",
    "raw_data_2017 = pd.read_csv(\"river-historical-2017-en.csv\")\n",
    "raw_data_2016 = pd.read_csv(\"river-historical-2016-en.csv\")\n",
    "raw_data_2015 = pd.read_csv(\"river-historical-2015-en.csv\")\n",
    "raw_data_2014 = pd.read_csv(\"river-historical-2014-en.csv\")\n",
    "raw_data_2013 = pd.read_csv(\"river-historical-2013-en.csv\")\n"
   ]
  },
  {
   "cell_type": "code",
   "execution_count": 65,
   "id": "50dff463",
   "metadata": {},
   "outputs": [],
   "source": [
    "data_2018 = raw_data_2018[['Station', 'Dates', 'pH', 'Turbidity (NTU)', 'Water Temperature (°C)', 'Suspended solids (mg/L)', 'Conductivity (μS/cm)', '5-Day Biochemical Oxygen Demand (mg/L)', 'Ammonia-Nitrogen (mg/L)', 'Total Phosphorus (mg/L)', 'Nitrate-Nitrogen (mg/L)', 'Nitrite-Nitrogen (mg/L)' ]]\n",
    "data_2017 = raw_data_2017[['Station', 'Dates', 'pH', 'Turbidity (NTU)', 'Water Temperature (°C)', 'Suspended solids (mg/L)', 'Conductivity (μS/cm)', '5-Day Biochemical Oxygen Demand (mg/L)', 'Ammonia-Nitrogen (mg/L)', 'Total Phosphorus (mg/L)', 'Nitrate-Nitrogen (mg/L)', 'Nitrite-Nitrogen (mg/L)' ]]\n",
    "data_2016 = raw_data_2016[['Station', 'Dates', 'pH', 'Turbidity (NTU)', 'Water Temperature (°C)', 'Suspended solids (mg/L)', 'Conductivity (μS/cm)', '5-Day Biochemical Oxygen Demand (mg/L)', 'Ammonia-Nitrogen (mg/L)', 'Total Phosphorus (mg/L)', 'Nitrate-Nitrogen (mg/L)', 'Nitrite-Nitrogen (mg/L)' ]]\n",
    "data_2015 = raw_data_2015[['Station', 'Dates', 'pH', 'Turbidity (NTU)', 'Water Temperature (°C)', 'Suspended solids (mg/L)', 'Conductivity (μS/cm)', '5-Day Biochemical Oxygen Demand (mg/L)', 'Ammonia-Nitrogen (mg/L)', 'Total Phosphorus (mg/L)', 'Nitrate-Nitrogen (mg/L)', 'Nitrite-Nitrogen (mg/L)' ]]\n",
    "data_2014 = raw_data_2014[['Station', 'Dates', 'pH', 'Turbidity (NTU)', 'Water Temperature (°C)', 'Suspended solids (mg/L)', 'Conductivity (μS/cm)', '5-Day Biochemical Oxygen Demand (mg/L)', 'Ammonia-Nitrogen (mg/L)', 'Total Phosphorus (mg/L)', 'Nitrate-Nitrogen (mg/L)', 'Nitrite-Nitrogen (mg/L)' ]]\n",
    "data_2013 = raw_data_2013[['Station', 'Dates', 'pH', 'Turbidity (NTU)', 'Water Temperature (°C)', 'Suspended solids (mg/L)', 'Conductivity (μS/cm)', '5-Day Biochemical Oxygen Demand (mg/L)', 'Ammonia-Nitrogen (mg/L)', 'Total Phosphorus (mg/L)', 'Nitrate-Nitrogen (mg/L)', 'Nitrite-Nitrogen (mg/L)' ]]"
   ]
  },
  {
   "cell_type": "code",
   "execution_count": 76,
   "id": "38fab267",
   "metadata": {},
   "outputs": [],
   "source": [
    "objs = [data_2018, data_2017, data_2016, data_2015, data_2014, data_2013]\n",
    "data = pd.concat(objs, axis = 0)"
   ]
  },
  {
   "cell_type": "code",
   "execution_count": 83,
   "id": "f3777ce8",
   "metadata": {},
   "outputs": [
    {
     "name": "stdout",
     "output_type": "stream",
     "text": [
      "5880\n"
     ]
    },
    {
     "data": {
      "text/html": [
       "<div>\n",
       "<style scoped>\n",
       "    .dataframe tbody tr th:only-of-type {\n",
       "        vertical-align: middle;\n",
       "    }\n",
       "\n",
       "    .dataframe tbody tr th {\n",
       "        vertical-align: top;\n",
       "    }\n",
       "\n",
       "    .dataframe thead th {\n",
       "        text-align: right;\n",
       "    }\n",
       "</style>\n",
       "<table border=\"1\" class=\"dataframe\">\n",
       "  <thead>\n",
       "    <tr style=\"text-align: right;\">\n",
       "      <th></th>\n",
       "      <th>Station</th>\n",
       "      <th>Dates</th>\n",
       "      <th>pH</th>\n",
       "      <th>Turbidity (NTU)</th>\n",
       "      <th>Water Temperature (°C)</th>\n",
       "      <th>Suspended solids (mg/L)</th>\n",
       "      <th>Conductivity (μS/cm)</th>\n",
       "      <th>5-Day Biochemical Oxygen Demand (mg/L)</th>\n",
       "      <th>Ammonia-Nitrogen (mg/L)</th>\n",
       "      <th>Total Phosphorus (mg/L)</th>\n",
       "      <th>Nitrate-Nitrogen (mg/L)</th>\n",
       "      <th>Nitrite-Nitrogen (mg/L)</th>\n",
       "    </tr>\n",
       "  </thead>\n",
       "  <tbody>\n",
       "    <tr>\n",
       "      <th>0</th>\n",
       "      <td>AN1</td>\n",
       "      <td>1/22/2018</td>\n",
       "      <td>8.1</td>\n",
       "      <td>3.1</td>\n",
       "      <td>18.4</td>\n",
       "      <td>4.2</td>\n",
       "      <td>25630</td>\n",
       "      <td>1.4</td>\n",
       "      <td>0.39</td>\n",
       "      <td>0.09</td>\n",
       "      <td>0.63</td>\n",
       "      <td>0.03</td>\n",
       "    </tr>\n",
       "    <tr>\n",
       "      <th>1</th>\n",
       "      <td>AN1</td>\n",
       "      <td>2/1/2018</td>\n",
       "      <td>8.3</td>\n",
       "      <td>32.8</td>\n",
       "      <td>11.6</td>\n",
       "      <td>12</td>\n",
       "      <td>12591</td>\n",
       "      <td>2.5</td>\n",
       "      <td>0.39</td>\n",
       "      <td>0.13</td>\n",
       "      <td>1.1</td>\n",
       "      <td>0.024</td>\n",
       "    </tr>\n",
       "    <tr>\n",
       "      <th>2</th>\n",
       "      <td>AN1</td>\n",
       "      <td>3/19/2018</td>\n",
       "      <td>8.3</td>\n",
       "      <td>1.0</td>\n",
       "      <td>21.8</td>\n",
       "      <td>1.2</td>\n",
       "      <td>3226</td>\n",
       "      <td>1.9</td>\n",
       "      <td>0.94</td>\n",
       "      <td>0.22</td>\n",
       "      <td>1.2</td>\n",
       "      <td>0.12</td>\n",
       "    </tr>\n",
       "    <tr>\n",
       "      <th>3</th>\n",
       "      <td>AN1</td>\n",
       "      <td>4/26/2018</td>\n",
       "      <td>8.1</td>\n",
       "      <td>1.4</td>\n",
       "      <td>22.1</td>\n",
       "      <td>2.3</td>\n",
       "      <td>22720</td>\n",
       "      <td>0.4</td>\n",
       "      <td>0.065</td>\n",
       "      <td>0.31</td>\n",
       "      <td>1.3</td>\n",
       "      <td>0.014</td>\n",
       "    </tr>\n",
       "    <tr>\n",
       "      <th>4</th>\n",
       "      <td>AN1</td>\n",
       "      <td>5/11/2018</td>\n",
       "      <td>8.3</td>\n",
       "      <td>1.5</td>\n",
       "      <td>23.6</td>\n",
       "      <td>5.3</td>\n",
       "      <td>18069</td>\n",
       "      <td>1.1</td>\n",
       "      <td>0.48</td>\n",
       "      <td>0.09</td>\n",
       "      <td>1.1</td>\n",
       "      <td>0.046</td>\n",
       "    </tr>\n",
       "  </tbody>\n",
       "</table>\n",
       "</div>"
      ],
      "text/plain": [
       "  Station      Dates   pH  Turbidity (NTU)  Water Temperature (°C)  \\\n",
       "0     AN1  1/22/2018  8.1              3.1                    18.4   \n",
       "1     AN1   2/1/2018  8.3             32.8                    11.6   \n",
       "2     AN1  3/19/2018  8.3              1.0                    21.8   \n",
       "3     AN1  4/26/2018  8.1              1.4                    22.1   \n",
       "4     AN1  5/11/2018  8.3              1.5                    23.6   \n",
       "\n",
       "  Suspended solids (mg/L)  Conductivity (μS/cm)  \\\n",
       "0                     4.2                 25630   \n",
       "1                      12                 12591   \n",
       "2                     1.2                  3226   \n",
       "3                     2.3                 22720   \n",
       "4                     5.3                 18069   \n",
       "\n",
       "  5-Day Biochemical Oxygen Demand (mg/L) Ammonia-Nitrogen (mg/L)  \\\n",
       "0                                    1.4                    0.39   \n",
       "1                                    2.5                    0.39   \n",
       "2                                    1.9                    0.94   \n",
       "3                                    0.4                   0.065   \n",
       "4                                    1.1                    0.48   \n",
       "\n",
       "  Total Phosphorus (mg/L) Nitrate-Nitrogen (mg/L) Nitrite-Nitrogen (mg/L)  \n",
       "0                    0.09                    0.63                    0.03  \n",
       "1                    0.13                     1.1                   0.024  \n",
       "2                    0.22                     1.2                    0.12  \n",
       "3                    0.31                     1.3                   0.014  \n",
       "4                    0.09                     1.1                   0.046  "
      ]
     },
     "execution_count": 83,
     "metadata": {},
     "output_type": "execute_result"
    }
   ],
   "source": [
    "print(data.shape[0])\n",
    "data.head()"
   ]
  },
  {
   "cell_type": "code",
   "execution_count": 81,
   "id": "ab09a462",
   "metadata": {},
   "outputs": [],
   "source": [
    "data.to_csv('final_data.csv')"
   ]
  },
  {
   "cell_type": "code",
   "execution_count": null,
   "id": "333ec6c7",
   "metadata": {},
   "outputs": [],
   "source": []
  }
 ],
 "metadata": {
  "kernelspec": {
   "display_name": "Python 3 (ipykernel)",
   "language": "python",
   "name": "python3"
  },
  "language_info": {
   "codemirror_mode": {
    "name": "ipython",
    "version": 3
   },
   "file_extension": ".py",
   "mimetype": "text/x-python",
   "name": "python",
   "nbconvert_exporter": "python",
   "pygments_lexer": "ipython3",
   "version": "3.10.1"
  }
 },
 "nbformat": 4,
 "nbformat_minor": 5
}
